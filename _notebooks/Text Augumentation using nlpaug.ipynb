{
 "cells": [
  {
   "cell_type": "markdown",
   "id": "9aefa4e6",
   "metadata": {},
   "source": [
    "# Text Augumentation using nlpaug"
   ]
  },
  {
   "cell_type": "markdown",
   "id": "5f991504",
   "metadata": {
    "papermill": {
     "duration": 0.015127,
     "end_time": "2022-01-02T13:21:44.081470",
     "exception": false,
     "start_time": "2022-01-02T13:21:44.066343",
     "status": "completed"
    },
    "tags": []
   },
   "source": [
    "## Introduction\n",
    "\n",
    "More data can help train models to be more general, with less overfitting. One convenient way to generate additional data is simply to transform the given data into something slightly different, such that it still represents the assigned labels. As well as helping during training, augmentation can also be used when running inference (Test Time Augmentation or TTA).\n",
    "\n",
    "For an image based challenge, flips, rotations, etc. can be used to generate a new image that still presents the same class of object as the original. But how do we do this for a NLP challenge?\n",
    "\n",
    "There are a wide variety of approaches, from character and word substitutions, all the way to translating the text from the source lanaguage to another and then back to get a setence with (hopefully) the same meaning, but a different structure.\n",
    "\n",
    "For more info, vad13irt has already posted a great survey here: https://www.kaggle.com/c/feedback-prize-2021/discussion/295277\n",
    "\n",
    "For this notebook, I want to focus on what the application of some of these methods actually looks like for the feedback-prize-2021 dataset. In particular, I'll be looking at methods that can be used while preserving the discourse_start and discourse_end annotations given in train.csv."
   ]
  },
  {
   "cell_type": "markdown",
   "id": "b533d4f8",
   "metadata": {
    "papermill": {
     "duration": 0.013679,
     "end_time": "2022-01-02T13:21:44.109131",
     "exception": false,
     "start_time": "2022-01-02T13:21:44.095452",
     "status": "completed"
    },
    "tags": []
   },
   "source": [
    "# The nlpaug Package\n",
    "\n",
    "I have chosen the nlpaug package, as it seems to have all I could want to experiement with. I could just have used 'pip install nlpaug', but I've installed it from a dataset to allow this notebook to run with internet turned off.\n",
    "\n",
    "Documentation is available at: https://nlpaug.readthedocs.io/en/latest/"
   ]
  },
  {
   "cell_type": "code",
   "execution_count": 1,
   "id": "b225ed7d",
   "metadata": {
    "execution": {
     "iopub.execute_input": "2022-01-02T13:21:44.140155Z",
     "iopub.status.busy": "2022-01-02T13:21:44.138879Z",
     "iopub.status.idle": "2022-01-02T13:22:31.156213Z",
     "shell.execute_reply": "2022-01-02T13:22:31.155418Z",
     "shell.execute_reply.started": "2022-01-02T12:55:21.645962Z"
    },
    "papermill": {
     "duration": 47.033766,
     "end_time": "2022-01-02T13:22:31.156455",
     "exception": false,
     "start_time": "2022-01-02T13:21:44.122689",
     "status": "completed"
    },
    "tags": []
   },
   "outputs": [
    {
     "name": "stdout",
     "output_type": "stream",
     "text": [
      "Processing ./nlpaug-master\r\n",
      "  Preparing metadata (setup.py) ... \u001b[?25l-\b \bdone\r\n",
      "\u001b[?25hRequirement already satisfied: numpy>=1.16.2 in /opt/conda/lib/python3.7/site-packages (from nlpaug==1.1.10) (1.19.5)\r\n",
      "Requirement already satisfied: pandas>=1.2.0 in /opt/conda/lib/python3.7/site-packages (from nlpaug==1.1.10) (1.3.4)\r\n",
      "Requirement already satisfied: requests>=2.22.0 in /opt/conda/lib/python3.7/site-packages (from nlpaug==1.1.10) (2.25.1)\r\n",
      "Requirement already satisfied: python-dateutil>=2.7.3 in /opt/conda/lib/python3.7/site-packages (from pandas>=1.2.0->nlpaug==1.1.10) (2.8.0)\r\n",
      "Requirement already satisfied: pytz>=2017.3 in /opt/conda/lib/python3.7/site-packages (from pandas>=1.2.0->nlpaug==1.1.10) (2021.3)\r\n",
      "Requirement already satisfied: urllib3<1.27,>=1.21.1 in /opt/conda/lib/python3.7/site-packages (from requests>=2.22.0->nlpaug==1.1.10) (1.26.7)\r\n",
      "Requirement already satisfied: chardet<5,>=3.0.2 in /opt/conda/lib/python3.7/site-packages (from requests>=2.22.0->nlpaug==1.1.10) (4.0.0)\r\n",
      "Requirement already satisfied: certifi>=2017.4.17 in /opt/conda/lib/python3.7/site-packages (from requests>=2.22.0->nlpaug==1.1.10) (2021.10.8)\r\n",
      "Requirement already satisfied: idna<3,>=2.5 in /opt/conda/lib/python3.7/site-packages (from requests>=2.22.0->nlpaug==1.1.10) (2.10)\r\n",
      "Requirement already satisfied: six>=1.5 in /opt/conda/lib/python3.7/site-packages (from python-dateutil>=2.7.3->pandas>=1.2.0->nlpaug==1.1.10) (1.16.0)\r\n",
      "Building wheels for collected packages: nlpaug\r\n",
      "  Building wheel for nlpaug (setup.py) ... \u001b[?25l-\b \b\\\b \b|\b \b/\b \bdone\r\n",
      "\u001b[?25h  Created wheel for nlpaug: filename=nlpaug-1.1.10-py3-none-any.whl size=406197 sha256=2e3e9438ceff88d58b14cddcb350200dbc6f8f8bf31c3bea08ce515fbe9788ac\r\n",
      "  Stored in directory: /root/.cache/pip/wheels/43/64/85/ce1afc6a0b63f139f70ea6945d5deebcebed4a875cb186adc8\r\n",
      "Successfully built nlpaug\r\n",
      "Installing collected packages: nlpaug\r\n",
      "Successfully installed nlpaug-1.1.10\r\n",
      "\u001b[33mWARNING: Running pip as the 'root' user can result in broken permissions and conflicting behaviour with the system package manager. It is recommended to use a virtual environment instead: https://pip.pypa.io/warnings/venv\u001b[0m\r\n"
     ]
    }
   ],
   "source": [
    "# Install and import nlpaug package.\n",
    "!cp -r ../input/nlpaug-from-github/nlpaug-master ./\n",
    "!pip install nlpaug-master/\n",
    "!rm -r nlpaug-master\n",
    "\n",
    "import nlpaug.augmenter.char as nac\n",
    "import nlpaug.augmenter.word as naw\n",
    "import nlpaug.augmenter.word.context_word_embs as nawcwe\n",
    "import nlpaug.augmenter.word.word_embs as nawwe\n",
    "import nlpaug.augmenter.word.spelling as naws"
   ]
  },
  {
   "cell_type": "markdown",
   "id": "cde5c850",
   "metadata": {
    "papermill": {
     "duration": 0.018765,
     "end_time": "2022-01-02T13:22:31.193326",
     "exception": false,
     "start_time": "2022-01-02T13:22:31.174561",
     "status": "completed"
    },
    "tags": []
   },
   "source": [
    "# First Attempt\n",
    "\n",
    "Let's start by taking a arbitrarily selected training text and augmenting it. For this I've picked a very simple augmetation, KeyboardAug, that uses adjacency of keys on the keyboard to simulate typos. Alongside the original and annotated text, I'm printing the length of the text run through split() - if that changes the discourse_start and discourse_end annotations given in train.csv will no longer be valid."
   ]
  },
  {
   "cell_type": "code",
   "execution_count": 2,
   "id": "c8325438",
   "metadata": {
    "execution": {
     "iopub.execute_input": "2022-01-02T13:22:31.240274Z",
     "iopub.status.busy": "2022-01-02T13:22:31.234580Z",
     "iopub.status.idle": "2022-01-02T13:22:31.256227Z",
     "shell.execute_reply": "2022-01-02T13:22:31.257419Z",
     "shell.execute_reply.started": "2022-01-02T12:56:09.471590Z"
    },
    "papermill": {
     "duration": 0.046071,
     "end_time": "2022-01-02T13:22:31.257678",
     "exception": false,
     "start_time": "2022-01-02T13:22:31.211607",
     "status": "completed"
    },
    "tags": []
   },
   "outputs": [
    {
     "name": "stdout",
     "output_type": "stream",
     "text": [
      "Original: 1105\n",
      "Dear Senator,\n",
      "\n",
      "I favor keeping the Electoral College in the arguement. One of the reasons I feel that way is that it is harder for someone who is runnig for president to win. To win they would need to win over the votes of most of the small states. Or win over the votes over some of the small states and some of the big states.  So it would need someone who is smart or at least somewhat smart.\n",
      "\n",
      "Another one of my reasons for going on this side of the arguement is not only do they have to win over the electoral votes they have to win over the poularity votes. The next reason I have is the Electoral College requires the people running for president they have appeal to all regions and not just the west because they were born there or something like that.\n",
      "\n",
      "Now there are a few bad things about the Electoral College. Like one is the fact that a tie is posible.\n",
      "\n",
      "Another is that it's out dated. Lastly each party picks a slate of electors to vote for the party's nominee and it's posible that trust can be betrayed, but that's rare. That is what I think about the Electoral College.                    \n",
      "\n",
      "Keyboard augmentation: 1088\n",
      "Dear Senator, I favor keeping the Electoral College in the arguement. One of the reasons I Vee? that way is that it is harder for soJdoJe who is runnig for president to win. To win they would need to win over the votes of most of the s,apl states. Or win over the votes over some of the small states and some of the big states. So it would need someone who is smart or at least somewhat smart. Another one of my reasons for going on this side of the arguement is not only do tteH have to win over the electoral votes rhDy have to win over the poularity vkteE. The next reason I have is the Electoral C),legW requires the people running for president they have appeal to all regions and not just the west because they were born there or something like that. Now there are a few bad things about the Electoral College. Like one is the fact RhXt a tie is posible. Another is that it ' s out dated. Lastly each party picks a slate of electors to vote for the 9artU ' s nominee and it ' s p0euble that trust can be betrayed, but that ' s rare. That is what I think about the Electoral College.\n"
     ]
    }
   ],
   "source": [
    "from colorama import Fore\n",
    "from pathlib import Path\n",
    "\n",
    "# Set some seeds. We want randomness for real usage, but for this tutorial, determinism helps explain some examples.\n",
    "import numpy as np\n",
    "np.random.seed(1000)\n",
    "import random\n",
    "random.seed(1000)\n",
    "\n",
    "base_path = Path(\"../input/feedback-prize-2021/train\")\n",
    "\n",
    "with open(base_path / \"3FF2F530D590.txt\") as f:\n",
    "    sample = f.read()\n",
    "    \n",
    "print(f\"Original: {len(sample)}\\n{sample}\")\n",
    "\n",
    "aug = nac.KeyboardAug()\n",
    "augmented_text = aug.augment(sample)\n",
    "print(f\"\\nKeyboard augmentation: {len(augmented_text)}\\n{augmented_text}\")"
   ]
  },
  {
   "cell_type": "markdown",
   "id": "1b658ed2",
   "metadata": {
    "papermill": {
     "duration": 0.019444,
     "end_time": "2022-01-02T13:22:31.298393",
     "exception": false,
     "start_time": "2022-01-02T13:22:31.278949",
     "status": "completed"
    },
    "tags": []
   },
   "source": [
    "Not great, several issues are obvious:\n",
    "1. The length of the split text has changed as the original had additional white space for formatting.\n",
    "2. It is hard to see all the differences without highlighting.\n",
    "3. The augmentation adds digits and special characters, which are unlikely to have been present.\n",
    "4. The augmentation can change many characters in one word, making the new word too far from the original.\n",
    "5. The augmented text adds spaces around apostrophes, increasing the split length.\n",
    "\n",
    "Let's solve these by:\n",
    "1. Stripping the original text.\n",
    "2. Adding a diff viewer to highlight the differences.\n",
    "3. Setting arguments to the augmentation method.\n",
    "4. Setting arguments to the augmentation method.\n",
    "5. Post-processing the augmented text with: replace(\" ' \", \"'\")"
   ]
  },
  {
   "cell_type": "code",
   "execution_count": 3,
   "id": "8dc51351",
   "metadata": {
    "execution": {
     "iopub.execute_input": "2022-01-02T13:22:31.339688Z",
     "iopub.status.busy": "2022-01-02T13:22:31.338992Z",
     "iopub.status.idle": "2022-01-02T13:22:31.342567Z",
     "shell.execute_reply": "2022-01-02T13:22:31.343072Z",
     "shell.execute_reply.started": "2022-01-02T12:56:09.494320Z"
    },
    "papermill": {
     "duration": 0.024801,
     "end_time": "2022-01-02T13:22:31.343264",
     "exception": false,
     "start_time": "2022-01-02T13:22:31.318463",
     "status": "completed"
    },
    "tags": []
   },
   "outputs": [],
   "source": [
    "# Replace orig text, with a version that has extra whitespace removed.\n",
    "sample = \" \".join([x.strip() for x in sample.split()])"
   ]
  },
  {
   "cell_type": "code",
   "execution_count": 4,
   "id": "78b62592",
   "metadata": {
    "execution": {
     "iopub.execute_input": "2022-01-02T13:22:31.386304Z",
     "iopub.status.busy": "2022-01-02T13:22:31.385539Z",
     "iopub.status.idle": "2022-01-02T13:22:31.393304Z",
     "shell.execute_reply": "2022-01-02T13:22:31.392511Z",
     "shell.execute_reply.started": "2022-01-02T12:56:09.519031Z"
    },
    "papermill": {
     "duration": 0.030919,
     "end_time": "2022-01-02T13:22:31.393503",
     "exception": false,
     "start_time": "2022-01-02T13:22:31.362584",
     "status": "completed"
    },
    "tags": []
   },
   "outputs": [],
   "source": [
    "def print_and_highlight_diff(orig_text, new_texts):\n",
    "    \"\"\" A simple diff viewer for augmented texts. \"\"\"\n",
    "    orig_split = orig_text.split()\n",
    "    print(f\"Original: {len(orig_split)}\\n{orig_text}\\n\")\n",
    "    for new_text in new_texts:\n",
    "        print(f\"Augmented: {len(new_text.split())}\")\n",
    "        for i, word in enumerate(new_text.split()):\n",
    "            if i < len(orig_split) and word == orig_split[i]:\n",
    "                print(word, end=\" \")\n",
    "            else:\n",
    "                print(Fore.RED + word + Fore.RESET, end=\" \")\n",
    "        print()"
   ]
  },
  {
   "cell_type": "markdown",
   "id": "e572ab27",
   "metadata": {
    "papermill": {
     "duration": 0.017129,
     "end_time": "2022-01-02T13:22:31.428850",
     "exception": false,
     "start_time": "2022-01-02T13:22:31.411721",
     "status": "completed"
    },
    "tags": []
   },
   "source": [
    "# KeyboardAug\n",
    "\n",
    "Let's try again with no digits, no special characters and only one augmented character per word."
   ]
  },
  {
   "cell_type": "code",
   "execution_count": 5,
   "id": "82f247d8",
   "metadata": {
    "execution": {
     "iopub.execute_input": "2022-01-02T13:22:31.471858Z",
     "iopub.status.busy": "2022-01-02T13:22:31.470787Z",
     "iopub.status.idle": "2022-01-02T13:22:31.571560Z",
     "shell.execute_reply": "2022-01-02T13:22:31.570953Z",
     "shell.execute_reply.started": "2022-01-02T12:56:09.532952Z"
    },
    "papermill": {
     "duration": 0.123226,
     "end_time": "2022-01-02T13:22:31.571718",
     "exception": false,
     "start_time": "2022-01-02T13:22:31.448492",
     "status": "completed"
    },
    "tags": []
   },
   "outputs": [
    {
     "name": "stdout",
     "output_type": "stream",
     "text": [
      "Original: 208\n",
      "Dear Senator, I favor keeping the Electoral College in the arguement. One of the reasons I feel that way is that it is harder for someone who is runnig for president to win. To win they would need to win over the votes of most of the small states. Or win over the votes over some of the small states and some of the big states. So it would need someone who is smart or at least somewhat smart. Another one of my reasons for going on this side of the arguement is not only do they have to win over the electoral votes they have to win over the poularity votes. The next reason I have is the Electoral College requires the people running for president they have appeal to all regions and not just the west because they were born there or something like that. Now there are a few bad things about the Electoral College. Like one is the fact that a tie is posible. Another is that it's out dated. Lastly each party picks a slate of electors to vote for the party's nominee and it's posible that trust can be betrayed, but that's rare. That is what I think about the Electoral College.\n",
      "\n",
      "Augmented: 208\n",
      "Dear Senator, I favor keeping the Electoral College in the arguement. One of the reasons I feel that way is that it is harder for someone who is runnig for president to win. To win \u001b[31mFhey\u001b[39m would need to win over the votes of most of the small states. Or win over the votes over some of the small states and some of the big states. So it would need someone who is smart or at \u001b[31mlrast\u001b[39m somewhat \u001b[31mZmart.\u001b[39m Another one of my reasons for going on this \u001b[31msiCe\u001b[39m of the arguement is not only do they \u001b[31mhaDe\u001b[39m to win over the \u001b[31meleStoral\u001b[39m votes they have to win over the poularity votes. The next reason I have is the \u001b[31mElectorak\u001b[39m College \u001b[31mrequides\u001b[39m the people \u001b[31mruhning\u001b[39m for president they have appeal to all regions and not just the west because they were born there or something \u001b[31mlkke\u001b[39m that. Now there are a few bad things about the Electoral College. Like one is the fact that a tie is posible. Another is that it's out dated. Lastly each party picks a slate of electors to vote for the party's nominee and it's posible that trust can be betrayed, but that's rare. That is what I think about the Electoral College. \n",
      "Augmented: 208\n",
      "Dear Senator, I favor keeping the Electoral College in the arguement. One of the reasons I feel \u001b[31mrhat\u001b[39m way is that it is harder for someone who is runnig for president to win. To win they would need to win over the votes of most of the small states. Or win over the votes over some of the small \u001b[31mstatRs\u001b[39m and some of the big \u001b[31mztates.\u001b[39m So it would need someone who is smart or at least somewhat smart. \u001b[31mAnoyher\u001b[39m one of my reasons for going on \u001b[31mthiq\u001b[39m side of the arguement is not only do they have to win over the electoral votes they have to win over the \u001b[31mpoularoty\u001b[39m votes. The next reason I have is the Electoral College requires the people running for president they have appeal to all regions and not just the west because they were born there or something like that. Now there are a few bad things about the Electoral College. Like one is the fact that a tie is posible. Another is that it's out dated. Lastly each party picks a slate of electors to \u001b[31mGote\u001b[39m for the party's \u001b[31mBominee\u001b[39m and it's posible that trust can be \u001b[31mbetGayed,\u001b[39m but that's rare. \u001b[31mfhat\u001b[39m is what I think about the Electoral College. \n",
      "Augmented: 208\n",
      "Dear Senator, I favor keeping the Electoral College in the arguement. One of the reasons I feel \u001b[31mRhat\u001b[39m way is that it is harder for \u001b[31msomeoBe\u001b[39m who is runnig for president to win. To win they would \u001b[31mnRed\u001b[39m to win \u001b[31movwr\u001b[39m the votes of most of the small states. Or win over the votes \u001b[31moCer\u001b[39m \u001b[31msomW\u001b[39m of the small states and some of the big states. So it would need someone who is \u001b[31msNart\u001b[39m or at least somewhat smart. Another one of my reasons for going on this side of the \u001b[31marguwment\u001b[39m is not only do they have to win over the electoral votes they have to win over the poularity votes. The next reason I have is the Electoral College requires the people running for president they have appeal to all regions and not just the west \u001b[31mvecause\u001b[39m \u001b[31mRhey\u001b[39m were born there or something like that. Now there are a few bad things about the Electoral College. Like one is the fact that a tie is posible. Another is that it's out dated. Lastly each party picks a slate of electors to vote for the party's nominee and it's posible that trust can be betrayed, but that's rare. That is what I think about the Electoral College. \n"
     ]
    }
   ],
   "source": [
    "aug = nac.KeyboardAug(include_numeric=False, include_special_char=False, aug_char_max=1, aug_word_p=0.05)\n",
    "augmented_texts = aug.augment(sample, n=3)\n",
    "augmented_texts = [x.replace(\" ' \", \"'\") for x in augmented_texts]\n",
    "print_and_highlight_diff(sample, augmented_texts)"
   ]
  },
  {
   "cell_type": "markdown",
   "id": "c68b074a",
   "metadata": {
    "papermill": {
     "duration": 0.018072,
     "end_time": "2022-01-02T13:22:31.608843",
     "exception": false,
     "start_time": "2022-01-02T13:22:31.590771",
     "status": "completed"
    },
    "tags": []
   },
   "source": [
    "That looks usable, but some of the misspellings are fairly severe.\n",
    "\n",
    "# SpellingAug\n",
    "\n",
    "It KeyboardAug creates typos that are too unnatural, let's try SpellingAug which uses a DB of common misspellings."
   ]
  },
  {
   "cell_type": "code",
   "execution_count": 6,
   "id": "8a6cff77",
   "metadata": {
    "execution": {
     "iopub.execute_input": "2022-01-02T13:22:31.651626Z",
     "iopub.status.busy": "2022-01-02T13:22:31.650545Z",
     "iopub.status.idle": "2022-01-02T13:22:31.867458Z",
     "shell.execute_reply": "2022-01-02T13:22:31.866792Z",
     "shell.execute_reply.started": "2022-01-02T12:56:09.628004Z"
    },
    "papermill": {
     "duration": 0.2405,
     "end_time": "2022-01-02T13:22:31.867620",
     "exception": false,
     "start_time": "2022-01-02T13:22:31.627120",
     "status": "completed"
    },
    "tags": []
   },
   "outputs": [
    {
     "name": "stdout",
     "output_type": "stream",
     "text": [
      "Original: 208\n",
      "Dear Senator, I favor keeping the Electoral College in the arguement. One of the reasons I feel that way is that it is harder for someone who is runnig for president to win. To win they would need to win over the votes of most of the small states. Or win over the votes over some of the small states and some of the big states. So it would need someone who is smart or at least somewhat smart. Another one of my reasons for going on this side of the arguement is not only do they have to win over the electoral votes they have to win over the poularity votes. The next reason I have is the Electoral College requires the people running for president they have appeal to all regions and not just the west because they were born there or something like that. Now there are a few bad things about the Electoral College. Like one is the fact that a tie is posible. Another is that it's out dated. Lastly each party picks a slate of electors to vote for the party's nominee and it's posible that trust can be betrayed, but that's rare. That is what I think about the Electoral College.\n",
      "\n",
      "Augmented: 208\n",
      "Dear Senator, I favor keeping the Electoral College in the arguement. One of the reasons I feel that way is that it is harder for someone who is runnig for president to win. To win they would need to win \u001b[31movert\u001b[39m the votes of most of the \u001b[31msmol\u001b[39m states. Or win over the votes over some of the small states and some of the big states. \u001b[31mTo\u001b[39m it would need someone who is smart \u001b[31monr\u001b[39m at least somewhat smart. Another one of my reasons for going on this side of the arguement is not only do they have to win over the electoral votes they have to win over the poularity votes. The next reason I have is the Electoral College requires the people running for \u001b[31mpresidente\u001b[39m they have appeal to all regions and not just the west \u001b[31mbecausy\u001b[39m they were born there or something like that. Now \u001b[31mthem\u001b[39m \u001b[31mair\u001b[39m a \u001b[31mfews\u001b[39m bad things about the Electoral College. Like one is the fact that a tie is posible. Another is that it's \u001b[31moput\u001b[39m dated. Lastly each party picks a slate of electors to vote for the party's nominee and it's posible that trust can be betrayed, but that's rare. That is what I think about the Electoral College. \n",
      "Augmented: 208\n",
      "Dear Senator, I favor keeping the Electoral College in \u001b[31mdth\u001b[39m arguement. One of the reasons I feel that way is that \u001b[31mits\u001b[39m is harder for someone who is runnig for \u001b[31mpresidente\u001b[39m to win. To win they would need to win over the votes of most of the small states. Or win over the votes over some of the small states and some \u001b[31mfor\u001b[39m the big states. So it would need someone who is smart or at least somewhat smart. \u001b[31mAntoher\u001b[39m one of my reasons for going on this side of the arguement is not only do they have to win over the electoral votes they have to win over the poularity votes. The next reason I have is the Electoral College requires \u001b[31mThey\u001b[39m people running for president they have appeal to all regions and not just the west because \u001b[31mthei\u001b[39m were born there or something like that. Now there are a few bad things about the Electoral College. Like one is the fact that a tie is posible. Another is that it's out dated. Lastly each party picks a slate of electors to \u001b[31mvoto\u001b[39m for the party's nominee and it's posible that trust can be betrayed, but that's \u001b[31mrar.\u001b[39m That is what \u001b[31mI've\u001b[39m think about the Electoral College. \n",
      "Augmented: 208\n",
      "Dear Senator, I favor keeping the Electoral College in the arguement. One of \u001b[31mtha\u001b[39m reasons I feel that way is that it is harder for someone who is runnig for president to win. To win they would need to \u001b[31mwind\u001b[39m over the votes \u001b[31mf\u001b[39m most of the small states. Or win over the votes over some of the small states and some of the big states. So it would need someone who is smart or at least somewhat smart. Another one of my reasons for going on this side of the arguement is not only do they have to win over the electoral votes they have to win over the poularity votes. The next reason I have is the Electoral College requires the people running for president they have appeal to all regions and not just the \u001b[31mwaste\u001b[39m because they were born there \u001b[31mora\u001b[39m something like that. Now there are a few bad things about \u001b[31mthye\u001b[39m Electoral College. Like one is the fact that a tie \u001b[31mis't\u001b[39m posible. Another is that \u001b[31mlt's\u001b[39m out dated. Lastly \u001b[31maech\u001b[39m party picks a slate of electors to vote for the \u001b[31mpartay's\u001b[39m nominee and it's posible that trust can be betrayed, but that's rare. That is what I think about the Electoral College. \n"
     ]
    }
   ],
   "source": [
    "aug = naw.SpellingAug()\n",
    "augmented_texts = aug.augment(sample, n=3)\n",
    "augmented_texts = [x.replace(\" ' \", \"'\") for x in augmented_texts]\n",
    "print_and_highlight_diff(sample, augmented_texts)"
   ]
  },
  {
   "cell_type": "markdown",
   "id": "ce628865",
   "metadata": {
    "papermill": {
     "duration": 0.017926,
     "end_time": "2022-01-02T13:22:31.905438",
     "exception": false,
     "start_time": "2022-01-02T13:22:31.887512",
     "status": "completed"
    },
    "tags": []
   },
   "source": [
    "That looks usable.\n",
    "\n",
    "# SynonymAug\n",
    "\n",
    "Now SynonymAug, that replaces some words with synonyms."
   ]
  },
  {
   "cell_type": "code",
   "execution_count": 7,
   "id": "a2f8f447",
   "metadata": {
    "execution": {
     "iopub.execute_input": "2022-01-02T13:22:31.946161Z",
     "iopub.status.busy": "2022-01-02T13:22:31.945450Z",
     "iopub.status.idle": "2022-01-02T13:22:34.598383Z",
     "shell.execute_reply": "2022-01-02T13:22:34.596859Z",
     "shell.execute_reply.started": "2022-01-02T12:56:09.817557Z"
    },
    "papermill": {
     "duration": 2.674386,
     "end_time": "2022-01-02T13:22:34.598568",
     "exception": false,
     "start_time": "2022-01-02T13:22:31.924182",
     "status": "completed"
    },
    "tags": []
   },
   "outputs": [
    {
     "name": "stdout",
     "output_type": "stream",
     "text": [
      "Original: 208\n",
      "Dear Senator, I favor keeping the Electoral College in the arguement. One of the reasons I feel that way is that it is harder for someone who is runnig for president to win. To win they would need to win over the votes of most of the small states. Or win over the votes over some of the small states and some of the big states. So it would need someone who is smart or at least somewhat smart. Another one of my reasons for going on this side of the arguement is not only do they have to win over the electoral votes they have to win over the poularity votes. The next reason I have is the Electoral College requires the people running for president they have appeal to all regions and not just the west because they were born there or something like that. Now there are a few bad things about the Electoral College. Like one is the fact that a tie is posible. Another is that it's out dated. Lastly each party picks a slate of electors to vote for the party's nominee and it's posible that trust can be betrayed, but that's rare. That is what I think about the Electoral College.\n",
      "\n",
      "Augmented: 209\n",
      "Dear Senator, I favor keeping the Electoral College in the arguement. One of the reasons I feel that way is that it is harder for someone who is runnig for president to win. To win they would need to win over the votes of most of the small states. Or win over the \u001b[31mballot\u001b[39m over some of the small states and some of the big \u001b[31mres\u001b[39m \u001b[31mpublica.\u001b[39m \u001b[31mSo\u001b[39m \u001b[31mit\u001b[39m \u001b[31mwould\u001b[39m \u001b[31mneed\u001b[39m \u001b[31msomeone\u001b[39m \u001b[31mwho\u001b[39m \u001b[31mis\u001b[39m \u001b[31msmart\u001b[39m \u001b[31mor\u001b[39m \u001b[31mat\u001b[39m \u001b[31mleast\u001b[39m \u001b[31msomewhat\u001b[39m \u001b[31msmart.\u001b[39m \u001b[31mAnother\u001b[39m \u001b[31mone\u001b[39m \u001b[31mof\u001b[39m \u001b[31mmy\u001b[39m \u001b[31mreasons\u001b[39m \u001b[31mfor\u001b[39m \u001b[31mgoing\u001b[39m \u001b[31mon\u001b[39m \u001b[31mthis\u001b[39m \u001b[31mside\u001b[39m \u001b[31mof\u001b[39m \u001b[31mthe\u001b[39m \u001b[31marguement\u001b[39m \u001b[31mis\u001b[39m \u001b[31mnot\u001b[39m \u001b[31mjust\u001b[39m \u001b[31mdo\u001b[39m \u001b[31mthey\u001b[39m \u001b[31mhave\u001b[39m \u001b[31mto\u001b[39m \u001b[31mwin\u001b[39m \u001b[31mover\u001b[39m \u001b[31mthe\u001b[39m \u001b[31melectoral\u001b[39m \u001b[31mvotes\u001b[39m \u001b[31mthey\u001b[39m \u001b[31mhave\u001b[39m \u001b[31mto\u001b[39m \u001b[31mwin\u001b[39m \u001b[31mover\u001b[39m \u001b[31mthe\u001b[39m \u001b[31mpoularity\u001b[39m \u001b[31mvotes.\u001b[39m \u001b[31mThe\u001b[39m \u001b[31mnext\u001b[39m \u001b[31mreason\u001b[39m \u001b[31mI\u001b[39m \u001b[31mhave\u001b[39m \u001b[31mis\u001b[39m \u001b[31mthe\u001b[39m \u001b[31mElectoral\u001b[39m \u001b[31mCollege\u001b[39m \u001b[31mrequires\u001b[39m \u001b[31mthe\u001b[39m \u001b[31mpeople\u001b[39m \u001b[31mrunning\u001b[39m \u001b[31mfor\u001b[39m \u001b[31mpresident\u001b[39m \u001b[31mthey\u001b[39m \u001b[31mhave\u001b[39m \u001b[31mappeal\u001b[39m \u001b[31mto\u001b[39m \u001b[31mall\u001b[39m \u001b[31mregions\u001b[39m \u001b[31mand\u001b[39m \u001b[31mnot\u001b[39m \u001b[31mjust\u001b[39m \u001b[31mthe\u001b[39m \u001b[31mwest\u001b[39m \u001b[31mbecause\u001b[39m \u001b[31mthey\u001b[39m \u001b[31mwere\u001b[39m \u001b[31mborn\u001b[39m \u001b[31mthere\u001b[39m \u001b[31mor\u001b[39m \u001b[31msomething\u001b[39m \u001b[31mcomparable\u001b[39m \u001b[31mthat.\u001b[39m \u001b[31mNow\u001b[39m \u001b[31mthere\u001b[39m \u001b[31mare\u001b[39m \u001b[31ma\u001b[39m \u001b[31mfew\u001b[39m \u001b[31mbad\u001b[39m \u001b[31mthings\u001b[39m \u001b[31mabout\u001b[39m \u001b[31mthe\u001b[39m \u001b[31mElectoral\u001b[39m \u001b[31mCollege.\u001b[39m \u001b[31mLike\u001b[39m \u001b[31mone\u001b[39m \u001b[31mis\u001b[39m \u001b[31mthe\u001b[39m \u001b[31mfact\u001b[39m \u001b[31mthat\u001b[39m \u001b[31ma\u001b[39m \u001b[31mtie\u001b[39m \u001b[31mis\u001b[39m \u001b[31mposible.\u001b[39m \u001b[31mAnother\u001b[39m \u001b[31mis\u001b[39m \u001b[31mthat\u001b[39m \u001b[31mit's\u001b[39m \u001b[31mout\u001b[39m \u001b[31mdated.\u001b[39m \u001b[31mLastly\u001b[39m \u001b[31meach\u001b[39m \u001b[31mparty\u001b[39m \u001b[31mpicks\u001b[39m \u001b[31ma\u001b[39m \u001b[31mslate\u001b[39m \u001b[31mof\u001b[39m \u001b[31melectors\u001b[39m \u001b[31mto\u001b[39m \u001b[31mvote\u001b[39m \u001b[31mfor\u001b[39m \u001b[31mthe\u001b[39m \u001b[31mcompany's\u001b[39m \u001b[31mnominee\u001b[39m \u001b[31mand\u001b[39m \u001b[31mit's\u001b[39m \u001b[31mposible\u001b[39m \u001b[31mthat\u001b[39m \u001b[31mtrust\u001b[39m \u001b[31mcan\u001b[39m \u001b[31mbe\u001b[39m \u001b[31mbetrayed,\u001b[39m \u001b[31mbut\u001b[39m \u001b[31mthat's\u001b[39m \u001b[31mrare.\u001b[39m \u001b[31mThat\u001b[39m \u001b[31mis\u001b[39m \u001b[31mwhat\u001b[39m \u001b[31mI\u001b[39m \u001b[31mthink\u001b[39m \u001b[31mabout\u001b[39m \u001b[31mthe\u001b[39m \u001b[31mElectoral\u001b[39m \u001b[31mCollege.\u001b[39m \n",
      "Augmented: 211\n",
      "Dear Senator, I favor keeping the Electoral College in the arguement. One of the reasons I feel that way is that it is harder for someone who is runnig for president to win. To win they would \u001b[31minvolve\u001b[39m to win over the votes of most of the small states. \u001b[31mOregon\u001b[39m win over the votes over some of the small states and some of the big states. So it would need someone who is smart or at least \u001b[31mmore\u001b[39m \u001b[31mor\u001b[39m \u001b[31mless\u001b[39m \u001b[31mimpertinent.\u001b[39m \u001b[31mAnother\u001b[39m \u001b[31mone\u001b[39m \u001b[31mof\u001b[39m \u001b[31mmy\u001b[39m \u001b[31mreasons\u001b[39m \u001b[31mfor\u001b[39m \u001b[31mgoing\u001b[39m \u001b[31mon\u001b[39m \u001b[31mthis\u001b[39m \u001b[31mside\u001b[39m \u001b[31mof\u001b[39m \u001b[31mthe\u001b[39m \u001b[31marguement\u001b[39m \u001b[31mis\u001b[39m \u001b[31mnot\u001b[39m \u001b[31monly\u001b[39m \u001b[31mdo\u001b[39m \u001b[31mthey\u001b[39m \u001b[31mhave\u001b[39m \u001b[31mto\u001b[39m \u001b[31mwin\u001b[39m \u001b[31mover\u001b[39m \u001b[31mthe\u001b[39m \u001b[31melectoral\u001b[39m \u001b[31mvotes\u001b[39m \u001b[31mthey\u001b[39m \u001b[31mhave\u001b[39m \u001b[31mto\u001b[39m \u001b[31mwin\u001b[39m \u001b[31mover\u001b[39m \u001b[31mthe\u001b[39m \u001b[31mpoularity\u001b[39m \u001b[31mvotes.\u001b[39m \u001b[31mThe\u001b[39m \u001b[31mnext\u001b[39m \u001b[31mreason\u001b[39m \u001b[31mI\u001b[39m \u001b[31mhave\u001b[39m \u001b[31mis\u001b[39m \u001b[31mthe\u001b[39m \u001b[31mElectoral\u001b[39m \u001b[31mCollege\u001b[39m \u001b[31mrequire\u001b[39m \u001b[31mthe\u001b[39m \u001b[31mpeople\u001b[39m \u001b[31mrunning\u001b[39m \u001b[31mfor\u001b[39m \u001b[31mpresident\u001b[39m \u001b[31mthey\u001b[39m \u001b[31mhave\u001b[39m \u001b[31mappeal\u001b[39m \u001b[31mto\u001b[39m \u001b[31mall\u001b[39m \u001b[31mregions\u001b[39m \u001b[31mand\u001b[39m \u001b[31mnot\u001b[39m \u001b[31mscarce\u001b[39m \u001b[31mthe\u001b[39m \u001b[31mwest\u001b[39m \u001b[31mbecause\u001b[39m \u001b[31mthey\u001b[39m \u001b[31mwere\u001b[39m \u001b[31mborn\u001b[39m \u001b[31mthere\u001b[39m \u001b[31mbeaver\u001b[39m \u001b[31mstate\u001b[39m \u001b[31msomething\u001b[39m \u001b[31mlike\u001b[39m \u001b[31mthat.\u001b[39m \u001b[31mNow\u001b[39m \u001b[31mthere\u001b[39m \u001b[31mare\u001b[39m \u001b[31ma\u001b[39m \u001b[31mfew\u001b[39m \u001b[31mbad\u001b[39m \u001b[31mthings\u001b[39m \u001b[31mabout\u001b[39m \u001b[31mthe\u001b[39m \u001b[31mElectoral\u001b[39m \u001b[31mCollege.\u001b[39m \u001b[31mLike\u001b[39m \u001b[31mone\u001b[39m \u001b[31mbe\u001b[39m \u001b[31mthe\u001b[39m \u001b[31mfact\u001b[39m \u001b[31mthat\u001b[39m \u001b[31ma\u001b[39m \u001b[31mtie\u001b[39m is \u001b[31mposible.\u001b[39m \u001b[31mAnother\u001b[39m \u001b[31mis\u001b[39m \u001b[31mthat\u001b[39m \u001b[31mit's\u001b[39m \u001b[31mout\u001b[39m \u001b[31mdated.\u001b[39m \u001b[31mLastly\u001b[39m \u001b[31meach\u001b[39m \u001b[31mparty\u001b[39m \u001b[31mpicks\u001b[39m \u001b[31ma\u001b[39m \u001b[31mslate\u001b[39m \u001b[31mof\u001b[39m \u001b[31melectors\u001b[39m \u001b[31mto\u001b[39m \u001b[31mvote\u001b[39m \u001b[31mfor\u001b[39m \u001b[31mthe\u001b[39m \u001b[31mparty's\u001b[39m \u001b[31mnominee\u001b[39m \u001b[31mand\u001b[39m \u001b[31mit's\u001b[39m \u001b[31mposible\u001b[39m \u001b[31mthat\u001b[39m \u001b[31mtrust\u001b[39m \u001b[31mcan\u001b[39m \u001b[31mbe\u001b[39m \u001b[31mbetrayed,\u001b[39m \u001b[31mbut\u001b[39m \u001b[31mthat's\u001b[39m \u001b[31mrare.\u001b[39m \u001b[31mThat\u001b[39m \u001b[31mis\u001b[39m \u001b[31mwhat\u001b[39m \u001b[31mI\u001b[39m \u001b[31mthink\u001b[39m \u001b[31mabout\u001b[39m \u001b[31mthe\u001b[39m \u001b[31mElectoral\u001b[39m \u001b[31mCollege.\u001b[39m \n",
      "Augmented: 210\n",
      "Dear Senator, I favor keeping the Electoral College in the arguement. One of the reasons I feel that way is that it is harder for someone who is runnig for president to win. To win they would need to win over the votes of most of the small states. Or win over the votes over some of the \u001b[31mpocket\u001b[39m \u001b[31msize\u001b[39m \u001b[31mstates\u001b[39m \u001b[31mand\u001b[39m \u001b[31msome\u001b[39m \u001b[31mof\u001b[39m \u001b[31mthe\u001b[39m \u001b[31mbig\u001b[39m \u001b[31mstates.\u001b[39m \u001b[31mSo\u001b[39m \u001b[31mit\u001b[39m \u001b[31mwould\u001b[39m \u001b[31mneed\u001b[39m \u001b[31msomeone\u001b[39m \u001b[31mwho\u001b[39m \u001b[31mis\u001b[39m \u001b[31msmart\u001b[39m \u001b[31mor\u001b[39m \u001b[31mat\u001b[39m \u001b[31mleast\u001b[39m \u001b[31msomewhat\u001b[39m \u001b[31msmart.\u001b[39m \u001b[31mAnother\u001b[39m \u001b[31mone\u001b[39m \u001b[31mof\u001b[39m \u001b[31mmy\u001b[39m \u001b[31mreasons\u001b[39m \u001b[31mfor\u001b[39m \u001b[31mgoing\u001b[39m \u001b[31mon\u001b[39m \u001b[31mthis\u001b[39m \u001b[31mside\u001b[39m \u001b[31mof\u001b[39m \u001b[31mthe\u001b[39m \u001b[31marguement\u001b[39m \u001b[31mis\u001b[39m \u001b[31mnot\u001b[39m \u001b[31monly\u001b[39m \u001b[31mdo\u001b[39m \u001b[31mthey\u001b[39m \u001b[31mhave\u001b[39m \u001b[31mto\u001b[39m \u001b[31mwin\u001b[39m \u001b[31mover\u001b[39m \u001b[31mthe\u001b[39m \u001b[31melectoral\u001b[39m \u001b[31mvotes\u001b[39m \u001b[31mthey\u001b[39m \u001b[31mhave\u001b[39m \u001b[31mto\u001b[39m \u001b[31mwin\u001b[39m \u001b[31mover\u001b[39m \u001b[31mthe\u001b[39m \u001b[31mpoularity\u001b[39m \u001b[31mvotes.\u001b[39m \u001b[31mThe\u001b[39m \u001b[31mnext\u001b[39m \u001b[31mreason\u001b[39m \u001b[31mI\u001b[39m \u001b[31mhave\u001b[39m \u001b[31mis\u001b[39m \u001b[31mthe\u001b[39m \u001b[31mElectoral\u001b[39m \u001b[31mCollege\u001b[39m \u001b[31mrequires\u001b[39m \u001b[31mthe\u001b[39m \u001b[31mpeople\u001b[39m \u001b[31mrunning\u001b[39m \u001b[31mfor\u001b[39m \u001b[31mpresident\u001b[39m \u001b[31mthey\u001b[39m \u001b[31mhave\u001b[39m \u001b[31mappeal\u001b[39m \u001b[31mto\u001b[39m \u001b[31mall\u001b[39m \u001b[31mregion\u001b[39m \u001b[31mand\u001b[39m \u001b[31mnot\u001b[39m \u001b[31mjust\u001b[39m \u001b[31mthe\u001b[39m \u001b[31mwest\u001b[39m \u001b[31mbecause\u001b[39m \u001b[31mthey\u001b[39m \u001b[31mwere\u001b[39m \u001b[31mborn\u001b[39m \u001b[31mthere\u001b[39m \u001b[31moperating\u001b[39m \u001b[31mtheater\u001b[39m \u001b[31msomething\u001b[39m \u001b[31mlike\u001b[39m \u001b[31mthat.\u001b[39m \u001b[31mNow\u001b[39m \u001b[31mthere\u001b[39m \u001b[31mare\u001b[39m \u001b[31ma\u001b[39m \u001b[31mfew\u001b[39m \u001b[31mforged\u001b[39m \u001b[31mthings\u001b[39m \u001b[31mabout\u001b[39m \u001b[31mthe\u001b[39m \u001b[31mElectoral\u001b[39m \u001b[31mCollege.\u001b[39m \u001b[31mLike\u001b[39m \u001b[31mone\u001b[39m \u001b[31mis\u001b[39m \u001b[31mthe\u001b[39m \u001b[31mfact\u001b[39m \u001b[31mthat\u001b[39m \u001b[31ma\u001b[39m \u001b[31mtie\u001b[39m \u001b[31mis\u001b[39m \u001b[31mposible.\u001b[39m \u001b[31mAnother\u001b[39m \u001b[31mis\u001b[39m \u001b[31mthat\u001b[39m \u001b[31mit's\u001b[39m \u001b[31mout\u001b[39m \u001b[31mdated.\u001b[39m \u001b[31mLastly\u001b[39m \u001b[31meach\u001b[39m \u001b[31mparty\u001b[39m \u001b[31mpicks\u001b[39m \u001b[31ma\u001b[39m \u001b[31mslate\u001b[39m \u001b[31mof\u001b[39m \u001b[31melectors\u001b[39m \u001b[31mto\u001b[39m \u001b[31mvote\u001b[39m \u001b[31mfor\u001b[39m \u001b[31mthe\u001b[39m \u001b[31mparty's\u001b[39m \u001b[31mnominee\u001b[39m \u001b[31mand\u001b[39m \u001b[31mit's\u001b[39m \u001b[31mposible\u001b[39m \u001b[31mthat\u001b[39m \u001b[31mtrust\u001b[39m \u001b[31mcan\u001b[39m \u001b[31mbe\u001b[39m \u001b[31mbetrayed,\u001b[39m \u001b[31mbut\u001b[39m \u001b[31mthat's\u001b[39m \u001b[31mrare.\u001b[39m \u001b[31mThat\u001b[39m \u001b[31mis\u001b[39m \u001b[31mwhat\u001b[39m \u001b[31mI\u001b[39m \u001b[31mcerebrate\u001b[39m \u001b[31mabout\u001b[39m \u001b[31mthe\u001b[39m \u001b[31mElectoral\u001b[39m \u001b[31mCollege.\u001b[39m \n"
     ]
    }
   ],
   "source": [
    "aug = naw.SynonymAug()\n",
    "augmented_texts = aug.augment(sample, n=3)\n",
    "augmented_texts = [x.replace(\" ' \", \"'\") for x in augmented_texts]\n",
    "print_and_highlight_diff(sample, augmented_texts)"
   ]
  },
  {
   "cell_type": "markdown",
   "id": "d75709d1",
   "metadata": {
    "papermill": {
     "duration": 0.019152,
     "end_time": "2022-01-02T13:22:34.636924",
     "exception": false,
     "start_time": "2022-01-02T13:22:34.617772",
     "status": "completed"
    },
    "tags": []
   },
   "source": [
    "Oh dear, the synonym augmentation is not a 1-to-1 swap at the word level. E.g. small -> pocket size. Therefore this cannot be used while maintaining the discourse annotations.\n",
    "\n",
    "# WordEmbsAug\n",
    "\n",
    "Uses word embeddings to find a similar word for augmentation, used here with a local copy of the GloVe model."
   ]
  },
  {
   "cell_type": "code",
   "execution_count": 8,
   "id": "201bf568",
   "metadata": {
    "execution": {
     "iopub.execute_input": "2022-01-02T13:22:34.680947Z",
     "iopub.status.busy": "2022-01-02T13:22:34.680195Z",
     "iopub.status.idle": "2022-01-02T13:26:16.142043Z",
     "shell.execute_reply": "2022-01-02T13:26:16.142594Z",
     "shell.execute_reply.started": "2022-01-02T12:56:12.443554Z"
    },
    "papermill": {
     "duration": 221.487146,
     "end_time": "2022-01-02T13:26:16.142785",
     "exception": false,
     "start_time": "2022-01-02T13:22:34.655639",
     "status": "completed"
    },
    "tags": []
   },
   "outputs": [
    {
     "name": "stdout",
     "output_type": "stream",
     "text": [
      "Original: 208\n",
      "Dear Senator, I favor keeping the Electoral College in the arguement. One of the reasons I feel that way is that it is harder for someone who is runnig for president to win. To win they would need to win over the votes of most of the small states. Or win over the votes over some of the small states and some of the big states. So it would need someone who is smart or at least somewhat smart. Another one of my reasons for going on this side of the arguement is not only do they have to win over the electoral votes they have to win over the poularity votes. The next reason I have is the Electoral College requires the people running for president they have appeal to all regions and not just the west because they were born there or something like that. Now there are a few bad things about the Electoral College. Like one is the fact that a tie is posible. Another is that it's out dated. Lastly each party picks a slate of electors to vote for the party's nominee and it's posible that trust can be betrayed, but that's rare. That is what I think about the Electoral College.\n",
      "\n",
      "Augmented: 208\n",
      "Dear Senator, I favor keeping the Electoral College in the arguement. One of the reasons I feel that way is that it is harder for someone who is runnig for \u001b[31mmubarak\u001b[39m to win. To win they would need to win over the votes of most of the small states. Or win over the votes over some of the small states and some of the \u001b[31mbigger\u001b[39m states. So it would need someone who is smart or at least somewhat smart. Another one of my reasons for going on this side of the arguement is not only do they have to win over the electoral votes they have to \u001b[31mgames\u001b[39m over the poularity \u001b[31mincumbent.\u001b[39m The next reason I have is \u001b[31mfinal\u001b[39m Electoral College requires the people running for president they have appeal to all regions and \u001b[31motherwise\u001b[39m just the west because they were born there or something like that. Now there are \u001b[31mfollowed\u001b[39m few bad things about the Electoral College. Like \u001b[31mseen\u001b[39m is the \u001b[31mprobably\u001b[39m that a tie is posible. Another is that it's out dated. Lastly each party picks a slate of electors to vote for the party's nominee and \u001b[31mit'’s\u001b[39m posible that trust can be betrayed, but that's rare. That is what I think about the Electoral College. \n",
      "Augmented: 208\n",
      "Dear Senator, I favor keeping the Electoral College in the arguement. One of the \u001b[31mthat\u001b[39m I feel that way is that it \u001b[31mrather\u001b[39m \u001b[31mbetter\u001b[39m for someone who is runnig for president to win. To win they would need to win over the votes of most of the small states. Or win over the votes over some of the \u001b[31ma\u001b[39m states and some of the big states. So it would need someone who is \u001b[31maleck\u001b[39m or at least somewhat smart. Another one of my reasons for \u001b[31mthem\u001b[39m on this side of the arguement is not only do they have to win over the electoral votes they have to win over the poularity votes. The next reason I have is the Electoral College requires the people running for president they have appeal to \u001b[31mwhat\u001b[39m regions and not just the west because they were born there or something like that. Now there are a few bad things about the Electoral College. Like one is the fact that a tie is posible. Another is \u001b[31mhow\u001b[39m it's out dated. Lastly each party picks a slate of electors to vote for the \u001b[31mparty'/\u001b[39m nominee and it's posible that trust can be betrayed, but that's rare. That is what I \u001b[31mpretty\u001b[39m about the Electoral College. \n",
      "Augmented: 208\n",
      "Dear Senator, I favor keeping the Electoral College in the arguement. One of the reasons I feel that way is that it is harder for someone \u001b[31myoung\u001b[39m is runnig for president to win. To win they would need to win over the votes of most of the small states. Or win over the votes over some of the small states and some of the big states. So \u001b[31msay\u001b[39m would need someone who \u001b[31mless\u001b[39m smart or at least somewhat smart. Another one of my reasons for going on \u001b[31mtoday\u001b[39m side of the \u001b[31msatruday\u001b[39m is not only do they have to win over the electoral votes they have to win over the poularity votes. The next reason I have is the Electoral College requires the people running for president they have appeal to all regions and not just the west because they were born there \u001b[31mno\u001b[39m \u001b[31mmind\u001b[39m like that. Now there are a few bad things about the Electoral College. Like one is the fact that a tie is posible. Another is that it's out dated. Lastly each party picks a slate of electors to vote \u001b[31mgood\u001b[39m \u001b[31mway\u001b[39m party's nominee and it's posible that trust can be betrayed, but that's rare. That is what I think \u001b[31monly\u001b[39m the Electoral College. \n"
     ]
    }
   ],
   "source": [
    "aug = nawwe.WordEmbsAug(model_type='glove', model_path='../input/glove-embeddings/glove.6B.300d.txt')\n",
    "augmented_texts = aug.augment(sample, n=3)\n",
    "augmented_texts = [x.replace(\" ' \", \"'\") for x in augmented_texts]\n",
    "print_and_highlight_diff(sample, augmented_texts)"
   ]
  },
  {
   "cell_type": "markdown",
   "id": "4958b4a1",
   "metadata": {
    "papermill": {
     "duration": 0.019499,
     "end_time": "2022-01-02T13:26:16.181525",
     "exception": false,
     "start_time": "2022-01-02T13:26:16.162026",
     "status": "completed"
    },
    "tags": []
   },
   "source": [
    "Some interesting swaps there! For example mubarak == president only in a very specific place and time!\n",
    "\n",
    "# ContextualWordEmbsAug\n",
    "\n",
    "This is similar to WordEmbsAug, but uses more powerful contextual word embeddings. Here used with BERT."
   ]
  },
  {
   "cell_type": "code",
   "execution_count": 9,
   "id": "039a4543",
   "metadata": {
    "execution": {
     "iopub.execute_input": "2022-01-02T13:26:16.225859Z",
     "iopub.status.busy": "2022-01-02T13:26:16.225178Z",
     "iopub.status.idle": "2022-01-02T13:26:46.022739Z",
     "shell.execute_reply": "2022-01-02T13:26:46.023421Z",
     "shell.execute_reply.started": "2022-01-02T12:59:52.198957Z"
    },
    "papermill": {
     "duration": 29.823011,
     "end_time": "2022-01-02T13:26:46.023896",
     "exception": false,
     "start_time": "2022-01-02T13:26:16.200885",
     "status": "completed"
    },
    "tags": []
   },
   "outputs": [
    {
     "name": "stdout",
     "output_type": "stream",
     "text": [
      "Original: 208\n",
      "Dear Senator, I favor keeping the Electoral College in the arguement. One of the reasons I feel that way is that it is harder for someone who is runnig for president to win. To win they would need to win over the votes of most of the small states. Or win over the votes over some of the small states and some of the big states. So it would need someone who is smart or at least somewhat smart. Another one of my reasons for going on this side of the arguement is not only do they have to win over the electoral votes they have to win over the poularity votes. The next reason I have is the Electoral College requires the people running for president they have appeal to all regions and not just the west because they were born there or something like that. Now there are a few bad things about the Electoral College. Like one is the fact that a tie is posible. Another is that it's out dated. Lastly each party picks a slate of electors to vote for the party's nominee and it's posible that trust can be betrayed, but that's rare. That is what I think about the Electoral College.\n",
      "\n",
      "Augmented: 208\n",
      "Dear Senator, I favor keeping the Electoral College in the arguement. \u001b[31mPart\u001b[39m of the reasons I feel that way is that it is harder for someone who is runnig for president \u001b[31mso\u001b[39m win. To win they would need to win over the votes of most of the small \u001b[31mcounties.\u001b[39m Or win over the votes over some \u001b[31mamong\u001b[39m the small states and some of the big states. So it would need \u001b[31mloser\u001b[39m who is smart or at least somewhat smart. Another \u001b[31mpart\u001b[39m of my reasons for going on this side \u001b[31monto\u001b[39m the arguement is not only do they have to win over the electoral votes they have \u001b[31mand\u001b[39m win over the poularity votes. The next reason I \u001b[31mthink\u001b[39m is the Electoral College requires the people running for president they have appeal to all regions and not just the west because they were born there or something like that. Now there are a few bad things about the Electoral College. Like one is the fact that a tie is posible. \u001b[31mWhich\u001b[39m is that it's out dated. Lastly each party picks a slate of electors to vote for the party's nominee and it's posible that trust can be betrayed, but that's rare. That is what I think about the Electoral College. \n",
      "Augmented: 208\n",
      "Dear Senator, \u001b[31mwe\u001b[39m favor keeping the Electoral College in the arguement. One of the reasons I feel that way is that it is \u001b[31muncommon\u001b[39m for someone who is runnig for president to win. To win they would need to win over the votes of \u001b[31meach\u001b[39m of the small states. \u001b[31mSo\u001b[39m win over the votes over some of the small states and some of the big \u001b[31mfamilies.\u001b[39m So it would need someone who is smart or at least somewhat smart. Another one of my reasons for \u001b[31mdeciding\u001b[39m on this side of the arguement is not only do they have to win over the electoral votes they have to win over the poularity votes. The \u001b[31mmain\u001b[39m reason I have \u001b[31mwhy\u001b[39m the Electoral College requires the people running for president they have appeal to all regions and not just the west because they were born there or something like that. Now there are a few bad things about the Electoral College. Like one is the fact that a tie is posible. \u001b[31mOther\u001b[39m is that it's out \u001b[31mfront.\u001b[39m Lastly each party picks a slate of electors to vote for the party's nominee and it's posible that trust can be betrayed, but that's rare. That is what I think about the Electoral College. \n",
      "Augmented: 208\n",
      "Dear Senator, I favor keeping the Electoral College in the arguement. One of the reasons I feel that way is that it is harder for someone who is runnig for \u001b[31mthem\u001b[39m to win. \u001b[31mBy\u001b[39m win they would need to win over the votes of most of the small states. Or win over the votes over some of the small states and some of the big states. So it would need someone who is smart or at least somewhat smart. Another one of my reasons for going on this side of the arguement is not \u001b[31mjust\u001b[39m do they have to win over the electoral votes they have to win over the poularity votes. The next reason I have is the Electoral College requires the people running for president they have appeal to all \u001b[31mraces\u001b[39m and not just the west \u001b[31mso\u001b[39m they were born there or something like that. Now there are a few bad things about the Electoral College. Like one is the fact \u001b[31mwhen\u001b[39m \u001b[31meach\u001b[39m tie is posible. Another is that \u001b[31mthat's\u001b[39m out dated. \u001b[31mToday\u001b[39m each party picks a slate of electors \u001b[31mthat\u001b[39m vote for the party's nominee and it's posible that trust can be betrayed, but that's rare. That is what I think about the Electoral College. \n"
     ]
    }
   ],
   "source": [
    "aug = nawcwe.ContextualWordEmbsAug(model_path='../input/huggingface-bert-variants/bert-base-cased/bert-base-cased')\n",
    "augmented_texts = aug.augment(sample, n=3)\n",
    "augmented_texts = [x.replace(\" ' \", \"'\") for x in augmented_texts]\n",
    "print_and_highlight_diff(sample, augmented_texts)"
   ]
  }
 ],
 "metadata": {
  "kernelspec": {
   "display_name": "Python 3",
   "language": "python",
   "name": "python3"
  },
  "language_info": {
   "codemirror_mode": {
    "name": "ipython",
    "version": 3
   },
   "file_extension": ".py",
   "mimetype": "text/x-python",
   "name": "python",
   "nbconvert_exporter": "python",
   "pygments_lexer": "ipython3",
   "version": "3.9.7"
  },
  "papermill": {
   "default_parameters": {},
   "duration": 315.756276,
   "end_time": "2022-01-02T13:26:49.400587",
   "environment_variables": {},
   "exception": null,
   "input_path": "__notebook__.ipynb",
   "output_path": "__notebook__.ipynb",
   "parameters": {},
   "start_time": "2022-01-02T13:21:33.644311",
   "version": "2.3.3"
  }
 },
 "nbformat": 4,
 "nbformat_minor": 5
}
